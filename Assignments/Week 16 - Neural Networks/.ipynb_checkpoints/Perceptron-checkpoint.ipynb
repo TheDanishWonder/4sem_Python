{
 "cells": [
  {
   "cell_type": "code",
   "execution_count": 23,
   "metadata": {},
   "outputs": [
    {
     "name": "stdout",
     "output_type": "stream",
     "text": [
      "[-10.          -9.97997998  -9.95995996  -9.93993994  -9.91991992]\n"
     ]
    },
    {
     "data": {
      "text/plain": [
       "[-10, 9, -2, 2]"
      ]
     },
     "execution_count": 23,
     "metadata": {},
     "output_type": "execute_result"
    },
    {
     "data": {
      "image/png": "[encoded data removed]",
      "text/plain": [
       "<Figure size 432x288 with 1 Axes>"
      ]
     },
     "metadata": {
      "needs_background": "light"
     },
     "output_type": "display_data"
    }
   ],
   "source": [
    "import numpy as np\n",
    "import matplotlib\n",
    "import matplotlib.pyplot as plt\n",
    "\n",
    "\n",
    "def activation_function(x):\n",
    "    \"\"\"\n",
    "    Step function to respond with y = 1 or -1\n",
    "    Parameter:\n",
    "    x: An x (numeric) value that will have a corresponding y value of 1 or -1\n",
    "    \"\"\"\n",
    "    if x > -5.5:\n",
    "        return -1\n",
    "    else:\n",
    "        return 1\n",
    "    \n",
    "rnge = np.linspace(-10.0, 10.0, num=1000)\n",
    "print(rnge[0:5])\n",
    "values = [activation_function(i) for i in rnge]\n",
    "plt.plot(rnge, values)\n",
    "plt.axis([-10, 9, -2, 2])"
   ]
  },
  {
   "cell_type": "code",
   "execution_count": null,
   "metadata": {},
   "outputs": [],
   "source": [
    "dot(a, b)[i,j,k,m] = sum(a[i,j,:] * b[k,:,m])"
   ]
  },
  {
   "cell_type": "code",
   "execution_count": 30,
   "metadata": {},
   "outputs": [
    {
     "data": {
      "text/plain": [
       "-0.5"
      ]
     },
     "execution_count": 30,
     "metadata": {},
     "output_type": "execute_result"
    }
   ],
   "source": [
    "import numpy as np\n",
    "\n",
    "def perceptron(inp, weights):\n",
    "    \"\"\"\n",
    "    Given a list of input (x) values and a list of weights, \n",
    "    calculates the dot product of the 2 lists and returns 1 or -1 (fire or don't)\n",
    "    Parameters:\n",
    "    inp: vector of input predictors\n",
    "    weights: vector of weights to be ajusted for precise prediction of output.\n",
    "    \"\"\"\n",
    "    # This is the same as the dot product np.dot(i, w)\n",
    "    dot_product = np.dot(inp, weights)\n",
    "    output = activation_function(dot_product)\n",
    "    return output\n",
    "\n",
    "perceptron([1, 2, 3, 4, 5], [1, 1, 2, 1, 1])"
   ]
  }
 ],
 "metadata": {
  "kernelspec": {
   "display_name": "Python 3",
   "language": "python",
   "name": "python3"
  },
  "language_info": {
   "codemirror_mode": {
    "name": "ipython",
    "version": 3
   },
   "file_extension": ".py",
   "mimetype": "text/x-python",
   "name": "python",
   "nbconvert_exporter": "python",
   "pygments_lexer": "ipython3",
   "version": "3.7.4"
  }
 },
 "nbformat": 4,
 "nbformat_minor": 2
}
